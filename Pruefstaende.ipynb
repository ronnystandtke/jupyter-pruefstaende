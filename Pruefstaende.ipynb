{
 "cells": [
  {
   "cell_type": "markdown",
   "id": "b4038bb9-b773-4358-9bd9-d9a557495498",
   "metadata": {
    "tags": []
   },
   "source": [
    "# Daten einlesen\n",
    "(In der Datei sind einige Variablen doppelt belegt. Damit wir nicht immer wieder die gleiche Warnung angezeigt bekommen, unterdrücken wir diese hier ausnahmsweise mit der `filterwarnings`-Funktion.)"
   ]
  },
  {
   "cell_type": "code",
   "execution_count": 1,
   "id": "d04e782b-2480-4704-8ea8-28b769550031",
   "metadata": {
    "tags": []
   },
   "outputs": [],
   "source": [
    "import warnings\n",
    "import scipy.io\n",
    "\n",
    "warnings.filterwarnings('ignore')\n",
    "data = scipy.io.loadmat('Outputdaten_FLP_V11_4.mat')"
   ]
  },
  {
   "cell_type": "markdown",
   "id": "873171b3-070a-4e14-a429-8ae5059760fd",
   "metadata": {
    "tags": []
   },
   "source": [
    "# Datumsformat konvertieren\n",
    "MATLAB verwendet ein proprietäres Format zur Darstellung von Daten (vergangene Tage seit 1. Januar 0000).  \n",
    "Um sinnvoll damit arbeiten zu können, wandeln wir das in ein Standardformat um."
   ]
  },
  {
   "cell_type": "code",
   "execution_count": 2,
   "id": "5fae7373-9dae-4d6e-a965-9dc8500fd487",
   "metadata": {
    "tags": []
   },
   "outputs": [],
   "source": [
    "import datetime\n",
    "\n",
    "def matlab2datetime(matlab_datenum):\n",
    "    day = datetime.datetime.fromordinal(int(matlab_datenum))\n",
    "    dayfrac = datetime.timedelta(days = matlab_datenum % 1) - datetime.timedelta(days = 366)\n",
    "    return day + dayfrac\n",
    "\n",
    "my_times=[]\n",
    "for i in range(data[\"dev_time_num\"].size):\n",
    "    my_times.append(matlab2datetime(data[\"dev_time_num\"][i][0]))"
   ]
  },
  {
   "cell_type": "markdown",
   "id": "297bb185-5859-4f25-90c9-c6d78f50a761",
   "metadata": {
    "tags": []
   },
   "source": [
    "# Definitionen und Funktionen\n",
    "Hier definieren wir ein paar Konstanten und eine Funktion, um die Diagramme des ausgewählten Containers darzustellen."
   ]
  },
  {
   "cell_type": "code",
   "execution_count": 113,
   "id": "13d49c66-4afd-4588-9418-f59ceb344c19",
   "metadata": {
    "tags": []
   },
   "outputs": [],
   "source": [
    "import matplotlib.pyplot as plt\n",
    "from matplotlib.ticker import (AutoMinorLocator, MultipleLocator)\n",
    "import matplotlib.dates as mdates\n",
    "import numpy as np\n",
    "\n",
    "# Spalten in Diagrammen\n",
    "appenzellerholz = 0\n",
    "holzrahmenbau   = 1\n",
    "massivbau       = 2\n",
    "\n",
    "cm = 1/2.54  # centimeters in inches\n",
    "\n",
    "def plot_u_values(container, title):\n",
    "    # diagram ratio: 25/41\n",
    "    fig, axs = plt.subplots(3, 1, figsize=(41*cm, 75*cm))\n",
    "    axs = axs.flatten()\n",
    "\n",
    "    # data rows that are used several times\n",
    "    s_sys    = data[\"U_Av_s_sys\"][:, container]\n",
    "    s_ges    = data[\"U_Av_s_ges\"][:, container]\n",
    "    c_s_ges  = data[\"U_ISO_Av_C_s_ges\"][:, container]\n",
    "    av_s_sys = data[\"U_ISO_Av_s_sys\"][:, container]\n",
    "    \n",
    "    # plot mean values\n",
    "    axs[0].plot(my_times, data[\"U_Av\"][:, container], label=\"Mittelwert\",    color='black', linestyle='none', marker=\".\", markersize=1)\n",
    "    axs[0].plot(my_times, s_sys,                      label=\"sys Fehler MW\", color='red',   linestyle='solid')\n",
    "    axs[0].plot(my_times, s_ges,                      label=\"ges Fehler MW\", color='blue',  linestyle='solid')\n",
    "    axs[0].set_ylabel(r\"Wärmedurchgangskoeffizient in $\\frac{W}{m^2 \\cdot K}$\")\n",
    "    axs[0].yaxis.set_major_locator(MultipleLocator(0.05))\n",
    "    axs[0].yaxis.set_minor_locator(AutoMinorLocator(0.01))\n",
    "\n",
    "    # plot observational errors\n",
    "    meanError = np.nanmean(s_sys)\n",
    "    squareMeanError = np.sqrt(np.nansum(np.square(s_sys))) / (len(s_sys) - np.count_nonzero(np.isnan(s_sys)))\n",
    "    standardDeviation = np.nanstd(s_sys)\n",
    "    axs[1].plot(my_times,     s_sys,                         label=\"sys Fehler MW\",   color='red',   linestyle='solid')\n",
    "    axs[1].plot(my_times,     s_ges,                         label=\"ges Fehler MW\",   color='blue',  linestyle='solid')\n",
    "    axs[1].plot(my_times,     data[\"U_s_sys\"][:, container], label=\"Messfehler\",      color='lime',  linestyle='none', marker=\".\", markersize=1)\n",
    "    axs[1].plot(my_times[-1], meanError,                     label=\"Mean Messfehler\", color='black', linestyle='none', marker=\"*\", markersize=10)\n",
    "    axs[1].plot(my_times[-1], standardDeviation,             label=\"SD Messfehler\",   color='black', linestyle='none', marker=\"o\", markersize=10, fillstyle=\"none\")\n",
    "    axs[1].set_ylabel(r\"Fehler Wärmedurchgangskoeffizient in $\\frac{W}{m^2 \\cdot K}$\")\n",
    "    \n",
    "    # plot even more errors\n",
    "    axs[2].plot(my_times, s_ges,                                        label=\"MW ges Fehler\",     color='red',     linestyle='none', marker=\".\", markersize=1)\n",
    "    axs[2].plot(my_times, data[\"U_ISO_Av_s\"][:, container],             label=\"MW Fehler ISO\",     color='magenta', linestyle='none', marker=\".\", markersize=1)\n",
    "    axs[2].plot(my_times, data[\"U_ISO_Av_s_sys\"][:, container],         label=\"sys Fehler ISO\",    color='blue',    linestyle='none', marker=\".\", markersize=1)\n",
    "    axs[2].plot(my_times, av_s_sys,                                     label=\"ges Fehler ISO\",    color='lime',    linestyle='none', marker=\".\", markersize=1)\n",
    "    axs[2].plot(my_times, c_s_ges[:, 0],                                label=\"ges Fehler ISO C1\", color='black',   linestyle='none', marker=\".\", markersize=1)\n",
    "    axs[2].plot(my_times, data[\"U_ISO_Av_C_s_sys\"][:, container][:, 1], label=\"sys Fehler C2\",     color='lime',    linestyle='none', marker=\"o\", markersize=1)\n",
    "    axs[2].plot(my_times, c_s_ges[:, 1],                                label=\"ges Fehler C2\",     color='black',   linestyle='none', marker=\"o\", markersize=1)\n",
    "    axs[2].plot(my_times, c_s_ges[:, 2],                                label=\"ges Fehler C3\",     color='magenta', linestyle='none', marker=\"o\", markersize=1)\n",
    "    axs[2].plot(my_times, c_s_ges[:, 3],                                label=\"ges Fehler C4\",     color='lime',    linestyle='none', marker=\".\", markersize=1)\n",
    "    axs[2].set_ylabel(r\"Fehler Wärmedurchgangskoeffizient in $\\frac{W}{m^2 \\cdot K}$\")\n",
    "       \n",
    "    for ax in axs:\n",
    "        ax.set_title(title)\n",
    "        ax.set_xlabel(\"Messzeit\")\n",
    "        ax.xaxis.set_major_formatter(mdates.DateFormatter('%d.%m.%y'))\n",
    "        ax.grid(which='major', linestyle='--')\n",
    "        ax.grid(which='minor', linestyle=':')\n",
    "        ax.legend(loc='upper right', prop={'size': 15})\n",
    "\n",
    "    plt.show\n",
    "    \n",
    "    # plot histogram\n",
    "    range_start = 0.9 * np.nanmin(av_s_sys)\n",
    "    range_end   = 1.5 * np.nanmean(av_s_sys)\n",
    "    if ~np.isnan(range_start) and ~np.isnan(range_end):\n",
    "        fig, ax = plt.subplots(figsize=(41*cm, 41*cm))\n",
    "        ax.hist(av_s_sys, bins=300, range=[range_start, range_end], edgecolor=\"black\", facecolor=\"lime\", alpha = 0.3)\n",
    "        ax.set_xlabel(\"Wert\")\n",
    "        ax.set_ylabel(\"Häufigkeit\")\n",
    "        plt.show\n",
    "    \n",
    "    pass"
   ]
  },
  {
   "cell_type": "markdown",
   "id": "e2744048-ac41-4681-9963-4223ae79d1be",
   "metadata": {
    "tags": []
   },
   "source": [
    "# Interaktion mit Benutzer\n",
    "Hier können unsere Benutzer auswählen, von welchem Container die Daten dargestellt werden sollen:"
   ]
  },
  {
   "cell_type": "code",
   "execution_count": 114,
   "id": "5e6bf4ac-5f86-4686-967e-2da66d54037f",
   "metadata": {
    "jupyter": {
     "source_hidden": true
    },
    "tags": []
   },
   "outputs": [
    {
     "data": {
      "application/vnd.jupyter.widget-view+json": {
       "model_id": "e1cc0c055af64e11ac84b1f722871bed",
       "version_major": 2,
       "version_minor": 0
      },
      "text/plain": [
       "interactive(children=(Dropdown(description='Container', options=('Appenzellerholz', 'Holzrahmenbau', 'Massivba…"
      ]
     },
     "metadata": {},
     "output_type": "display_data"
    }
   ],
   "source": [
    "from ipywidgets import interact\n",
    "\n",
    "def myPlot(Container):\n",
    "    if Container == \"Appenzellerholz\":\n",
    "        plot_u_values(appenzellerholz, Container)\n",
    "    elif Container == \"Holzrahmenbau\":\n",
    "        plot_u_values(holzrahmenbau, Container)\n",
    "    elif Container == \"Massivbau\":\n",
    "        plot_u_values(massivbau, Container)\n",
    "\n",
    "interact(myPlot, Container=[\"Appenzellerholz\",\"Holzrahmenbau\", \"Massivbau\"]);"
   ]
  },
  {
   "cell_type": "code",
   "execution_count": null,
   "id": "1a0fee0d-9f31-4984-9778-27572d01ba77",
   "metadata": {},
   "outputs": [],
   "source": []
  }
 ],
 "metadata": {
  "kernelspec": {
   "display_name": "Python 3",
   "language": "python",
   "name": "python3"
  },
  "language_info": {
   "codemirror_mode": {
    "name": "ipython",
    "version": 3
   },
   "file_extension": ".py",
   "mimetype": "text/x-python",
   "name": "python",
   "nbconvert_exporter": "python",
   "pygments_lexer": "ipython3",
   "version": "3.9.7"
  }
 },
 "nbformat": 4,
 "nbformat_minor": 5
}
